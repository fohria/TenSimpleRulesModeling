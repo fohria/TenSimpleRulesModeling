{
 "cells": [
  {
   "cell_type": "markdown",
   "metadata": {},
   "source": [
    "\n",
    "# Box 7 - Model validation where the fit model performs too well\n",
    "\n",
    "TODO: put functions in subfolders\n",
    "\n",
    "TODO: save to dataframe while simfitting, can then plot immediately without creating dataframes individually\n",
    "\n",
    "This one is a bit tricky. We have two models: blind and state-based (which I will sometimes call \"sighted\"). So far so good. What can be confusing (at least it was to me) is the difference in what is being plotted in Figure A, B and C. So based on the plots from the paper, here's what happens:\n",
    "\n",
    "**Figure A:** We simulate the behaviour of both models and plot their performance. The two lines represent two different models, each with its own data.\n",
    "\n",
    "**Figure B:** This shows how we model the two participants with the state-based (sighted) model. In other words, we fit the sighted model to both blind and sighted data. One model, two sets of data. Interestingly, it seems the sighted model has a higher likelihood for explaining the blind data than the sighted data.\n",
    "\n",
    "**Figure C:** If we use the fitted parameters found in figure B and *simulate* using the sighted model, we find that the behaviour produced (in the form of learning curves) looks like the sighted behaviour in figure A. But when simulating the sighted model with the parameters fit to *blind data* it produces behaviour that doesn't look like the behaviour in figure A.\n",
    "\n",
    "In other words, it may be *theoretically* correct that one model has higher likelihood than the true one (figure b), we should always test this in *practice* to confirm if the behaviour is the same (figure c vs figure a).\n",
    "\n",
    "Got it? Cool :) Let's describe the task we will use for this experiment!\n",
    "\n",
    "## The experimental task\n",
    "\n",
    "Imagine there are three different pictures that can be shown to you, and you have to learn which of three buttons to push depending on the picture. That's the \"sighted\" model. For the \"blind\" model, imagine that you are, well, blind. You get told when it's time to push a button, maybe you will learn the correct pattern, maybe you won't. Sounds like a horrifying task now that I put it that way.\n",
    "\n",
    "The paper describes the basic rules of the task, where we have three stimuli $s_1, s_2, s_3$ and three actions $a_1, a_2, a_3$.\n",
    "\n",
    "$a_1$ is the correct choice for $s_1, s_2$\n",
    "\n",
    "$a_3$ is the correct choice for $s_3$\n",
    "\n",
    "$a_2$ does nothing\n",
    "\n",
    "From the matlab code we see that we have 10 blocks, and learning values are reset at the start of each block. Every block has 45 trials.\n",
    "\n",
    "Since python has 0-index we will use that so in the following code we have three stimuli $s_0, s_1, s_2$ and three actions $a_0, a_1, a_2$.\n",
    "\n",
    "$a_0$ is the correct choice for $s_0, s_1$\n",
    "\n",
    "$a_2$ is the correct choice for $s_2$\n",
    "\n",
    "$a_1$ does nothing\n",
    "\n",
    "## Library and function imports"
   ]
  },
  {
   "cell_type": "code",
   "execution_count": null,
   "metadata": {
    "lines_to_next_cell": 1
   },
   "outputs": [],
   "source": [
    "# autoreload\n",
    "%load_ext autoreload\n",
    "%autoreload 2\n",
    "\n",
    "import numpy as np\n",
    "import pandas as pd\n",
    "import seaborn as sns\n",
    "from scipy.optimize import minimize\n",
    "\n",
    "from SimulationFunctions.simulate_box7 import simulate_blind, simulate_sights\n",
    "from LikelihoodFunctions.lik_box7 import llh_sights, posterior"
   ]
  },
  {
   "cell_type": "markdown",
   "metadata": {},
   "source": [
    "\n",
    "## Description of models\n",
    "\n",
    "Both models use a \"basic\" reinforcement learning algorithm like Model 3 that we have used in previous boxes. But in the previous task used - the two armed bandit - there was never a state, only actions. Well, I guess you could say there was an implicit single ever-lasting state. That's in essence what the \"blind\" model does; it has no concept of different states but tries to learn the values of each action anyway.\n",
    "\n",
    "In appendix 5 of the paper it's further described that we have two learning rates, $\\alpha_{pos}$ and $\\alpha_{neg}$, for positive reward prediction error and negative prediction error, respectively.\n",
    "\n",
    "$\\alpha_{neg}$ is set to 0 for all simulations and same for the likelihood functions in the Matlab code, so we will do the same here. In practice, we thus only update action values if the prediction error is positive, i.e. if the reward received is larger than predicted.\n",
    "\n",
    "Choices are again made by softmax, using $\\beta$ as our inverse temperature.\n",
    "\n",
    "As in previous boxes, we import the simulation and likelihood functions and here present the main loop and its utility functions."
   ]
  },
  {
   "cell_type": "markdown",
   "metadata": {},
   "source": [
    "\n",
    "`fitRL` wraps our likelihood and posterior functions. The posterior function is used to get the likelihood values for figure B so that we can plot them. We also run the minimization 10 times to find the best global optimum."
   ]
  },
  {
   "cell_type": "code",
   "execution_count": null,
   "metadata": {
    "lines_to_next_cell": 1
   },
   "outputs": [],
   "source": [
    "def fitRL(states, actions, rewards):\n",
    "\n",
    "    bounds = [(0.01, 0.99), (0.1, 20)]  # alpha, beta\n",
    "    best = 9999\n",
    "    best_parms = []\n",
    "\n",
    "    for _ in range(10):\n",
    "        guess = (np.random.rand(), np.random.rand() * 10)  # alpha, beta\n",
    "        result = minimize(\n",
    "            llh_sights, guess, args=(states, actions, rewards), bounds=bounds)\n",
    "        if result.fun < best:\n",
    "            best_parms = result.x\n",
    "\n",
    "    likes = posterior(best_parms, states, actions, rewards)\n",
    "\n",
    "    return best_parms, likes"
   ]
  },
  {
   "cell_type": "markdown",
   "metadata": {},
   "source": [
    "\n",
    "`summarize_per_stimuli` averages performance results across each stimuli. We have 45 trials in each block, and stimuli are presented in order, so we get $45 / 3 = 15$ trials on the x-axis for plotting."
   ]
  },
  {
   "cell_type": "code",
   "execution_count": null,
   "metadata": {},
   "outputs": [],
   "source": [
    "def summarize_per_stimuli(series):\n",
    "\n",
    "    stim1 = np.array([series[np.arange(block * 45, (block + 1) * 45, 3)] for block in range(10)])\n",
    "    stim2 = np.array([series[np.arange(block * 45 + 1, (block + 1) * 45, 3)] for block in range(10)])\n",
    "    stim3 = np.array([series[np.arange(block * 45 + 2, (block + 1) * 45, 3)] for block in range(10)])\n",
    "\n",
    "    return np.mean((stim1 + stim2 + stim3) / 3, axis=0)"
   ]
  },
  {
   "cell_type": "markdown",
   "metadata": {},
   "source": [
    "## Simulate, fit and simulate again!\n",
    "\n",
    "Now for our main loop. We simulate the blind model, then fit the sighted model to this data and save the fitting result. That fitting result - the estimated values for alpha and beta - is then used to simulate the sighted model.\n",
    "\n",
    "Then we simulate the sighted model, fit the sighted model to that data and finally simulate the sighted model again using the estimated parameter values we just got.\n",
    "\n",
    "### Experimental parameters\n",
    "\n",
    "`sim_count` defines how many loops of sim-fitting we will do.\n",
    "\n",
    "Default simulation parameters are the specified values from the paper so we get similar performance curves in figure A for both models. Matlab code has slightly enlarged ranges for these values, still producing similar learning curves, that can be uncommented for some extra experimentation."
   ]
  },
  {
   "cell_type": "code",
   "execution_count": null,
   "metadata": {
    "lines_to_next_cell": 2
   },
   "outputs": [],
   "source": [
    "sim_count = 100  # how many loops in total\n",
    "\n",
    "# np.tile is not supported by numba but is the same every loop anyway\n",
    "stimuli = np.tile(np.array([0, 1, 2], dtype=int), int(45 / 3))\n",
    "# fig a data\n",
    "sim_blinds = []\n",
    "sim_sights = []\n",
    "# fig b data\n",
    "like_blinds = []\n",
    "like_sights = []\n",
    "# fig c data\n",
    "simfit_blind = []\n",
    "simfit_sight = []\n",
    "\n",
    "for simulation in range(sim_count):\n",
    "\n",
    "    print(f\"simulation {simulation}\")\n",
    "\n",
    "    # blind model\n",
    "    # alpha_pos = 0.3 + 0.4 * np.random.rand()  # paper says this is set but okay\n",
    "    alpha_pos = 0.5\n",
    "    beta = 6.5\n",
    "    # beta = 4 + 5 * np.random.rand()\n",
    "    states, actions, rewards = simulate_blind(\n",
    "        stimuli, alpha_pos, beta)\n",
    "    sim_blinds.append(summarize_per_stimuli(rewards))\n",
    "\n",
    "    parms, likes = fitRL(states, actions, rewards)\n",
    "    like_blinds.append(summarize_per_stimuli(likes))\n",
    "\n",
    "    # simulation of _sighted_ model using blind data\n",
    "    states, actions, rewards = simulate_sights(\n",
    "        stimuli, parms[0], parms[1]\n",
    "    )\n",
    "    simfit_blind.append(summarize_per_stimuli(rewards))\n",
    "\n",
    "    # state-based/sighted model\n",
    "    # alpha_pos = 0.6 + 0.1 * np.random.rand()\n",
    "    alpha_pos = 0.65\n",
    "    beta = 2\n",
    "    states, actions, rewards = simulate_sights(\n",
    "        stimuli, alpha_pos, beta)\n",
    "    sim_sights.append(summarize_per_stimuli(rewards))\n",
    "\n",
    "    parms, likes = fitRL(states, actions, rewards)\n",
    "    like_sights.append(summarize_per_stimuli(likes))\n",
    "\n",
    "    states, actions, rewards = simulate_sights(\n",
    "        stimuli, parms[0], parms[1])\n",
    "    simfit_sight.append(summarize_per_stimuli(rewards))"
   ]
  },
  {
   "cell_type": "markdown",
   "metadata": {
    "lines_to_next_cell": 0
   },
   "source": [
    "\n",
    "## collating the data"
   ]
  },
  {
   "cell_type": "code",
   "execution_count": null,
   "metadata": {
    "lines_to_next_cell": 0
   },
   "outputs": [],
   "source": [
    "combined_columns = ['simcount', 'trial', 'model', 'p_correct', 'figure']\n",
    "all_sims = pd.DataFrame(columns = combined_columns)\n",
    "\n",
    "for simnum in range(sim_count):\n",
    "    # figure a\n",
    "    rows_sim_blinds = [\n",
    "        (simnum, x, 'blind', sim_blinds[simnum][x], 'a')\n",
    "        for x in range(15)\n",
    "    ]\n",
    "    rows_sim_sights = [\n",
    "        (simnum, x, 'sights', sim_sights[simnum][x], 'a')\n",
    "        for x in range(15)\n",
    "    ]\n",
    "    # figure b\n",
    "    rows_like_blinds = [\n",
    "        (simnum, x, 'blind', like_blinds[simnum][x], 'b')\n",
    "        for x in range(15)\n",
    "    ]\n",
    "    rows_like_sights = [\n",
    "        (simnum, x, 'sights', like_sights[simnum][x], 'b')\n",
    "        for x in range(15)\n",
    "    ]\n",
    "    # figure c\n",
    "    rows_simfit_blinds = [\n",
    "        (simnum, x, 'blind', simfit_blind[simnum][x], 'c')\n",
    "        for x in range(15)\n",
    "    ]\n",
    "    rows_simfit_sights = [\n",
    "        (simnum, x, 'sights', simfit_sight[simnum][x], 'c')\n",
    "        for x in range(15)\n",
    "    ]\n",
    "    simrun_data = rows_sim_blinds + rows_sim_sights + rows_like_blinds + rows_like_sights + rows_simfit_blinds + rows_simfit_sights\n",
    "    simrun_df = pd.DataFrame(columns = combined_columns, data = simrun_data)\n",
    "    all_sims = pd.concat([all_sims, simrun_df])\n",
    "\n",
    "df_combo\n",
    "all_sims"
   ]
  },
  {
   "cell_type": "markdown",
   "metadata": {},
   "source": [
    "## Figure A"
   ]
  },
  {
   "cell_type": "code",
   "execution_count": null,
   "metadata": {},
   "outputs": [],
   "source": [
    "sns.set(rc={\"figure.figsize\": (3, 3), \"figure.dpi\": 100})\n",
    "\n",
    "fig = sns.lineplot(\n",
    "    data = all_sims.query(\"figure == 'a'\"),\n",
    "    x = 'trial',\n",
    "    y = 'p_correct',\n",
    "    hue = 'model'\n",
    ")\n",
    "fig.set(ylim = (0.2, 1));"
   ]
  },
  {
   "cell_type": "markdown",
   "metadata": {
    "lines_to_next_cell": 0
   },
   "source": [
    "## Figure B"
   ]
  },
  {
   "cell_type": "code",
   "execution_count": null,
   "metadata": {},
   "outputs": [],
   "source": [
    "fig = sns.lineplot(\n",
    "    data = all_sims.query(\"figure == 'b'\"),\n",
    "    x = 'trial',\n",
    "    y = 'p_correct',\n",
    "    hue = 'model'\n",
    ")\n",
    "fig.set(ylim = (0.2, 1), ylabel = \"likelihood of choice\");"
   ]
  },
  {
   "cell_type": "markdown",
   "metadata": {
    "lines_to_next_cell": 0
   },
   "source": [
    "# Figure C"
   ]
  },
  {
   "cell_type": "code",
   "execution_count": null,
   "metadata": {},
   "outputs": [],
   "source": [
    "fig = sns.lineplot(\n",
    "    data = all_sims.query(\"figure == 'c'\"),\n",
    "    x = 'trial',\n",
    "    y = 'p_correct',\n",
    "    hue = 'model'\n",
    ")\n",
    "fig.set(ylim = (0.2, 1));"
   ]
  },
  {
   "cell_type": "markdown",
   "metadata": {},
   "source": [
    "\n",
    "## Plotting all together\n",
    "\n",
    "It's nice to see the plots next to each other, but to do this we need to have the same column names which may or may not be more confusing. Especially for the middle plot, we can't get seaborn to change its y-axis name as it should be likelihood and not p(correct). If you happen to know how to do this please let me know!"
   ]
  },
  {
   "cell_type": "code",
   "execution_count": null,
   "metadata": {},
   "outputs": [],
   "source": [
    "grid = sns.FacetGrid(all_sims, col = 'figure', hue = 'model')\n",
    "grid.map(sns.lineplot, 'trial', 'p_correct')\n",
    "grid.add_legend()\n",
    "grid.set_xlabels(\"time step\")\n",
    "grid.set(ylim=(0.2, 1), xlim=(-1, 15), xticks=[0, 5, 10, 14])\n",
    "grid.set_ylabels(\"p(correct)\")\n",
    "# grid.despine()\n",
    "axes = grid.axes.flatten()\n",
    "axes[0].set_title(\"A: 'subject' learning curves\")\n",
    "axes[0].set_ylabel(\"p(correct)\")\n",
    "axes[1].set_title(\"B: likelihood of \\nstate-based RL model\")\n",
    "axes[1].set_ylabel(\"likelihood of choice\")\n",
    "axes[2].set_title(\"C: simulated learning curves \\nfrom state-based RL\")\n",
    "axes[2].set_ylabel(\"p(correct)\");"
   ]
  }
 ],
 "metadata": {
  "jupytext": {
   "cell_metadata_filter": "-all",
   "main_language": "python",
   "notebook_metadata_filter": "-all"
  }
 },
 "nbformat": 4,
 "nbformat_minor": 4
}
