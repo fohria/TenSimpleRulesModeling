{
 "cells": [
  {
   "cell_type": "markdown",
   "metadata": {
    "lines_to_next_cell": 0
   },
   "source": [
    "\n",
    "# Box 5 - Confusion matrices in the bandit task\n",
    "\n",
    "How do we compare different models to know which one fits our data best?\n",
    "\n",
    "We will answer this question by using Models 1-5 from Box 2. For each model, we will simulate it and then fit all 5 models on the data. We should expect, in the best case, that the model used to simulate the data will also fit the best.\n",
    "\n",
    "## Library imports"
   ]
  },
  {
   "cell_type": "code",
   "execution_count": null,
   "metadata": {},
   "outputs": [],
   "source": [
    "# autoreload\n",
    "%load_ext autoreload\n",
    "%autoreload 2\n",
    "\n",
    "import numpy as np\n",
    "import seaborn as sns\n",
    "from SimulationFunctions.simulate_M1random import simulate_M1random\n",
    "from SimulationFunctions.simulate_M2WSLS import simulate_M2WSLS\n",
    "from SimulationFunctions.simulate_M3RescorlaWagner import simulate_M3RescorlaWagner\n",
    "from SimulationFunctions.simulate_M4ChoiceKernel import simulate_M4ChoiceKernel\n",
    "from SimulationFunctions.simulate_M5RWCK import simulate_M5RWCK\n",
    "from FittingFunctions.fit_all import fit_all"
   ]
  },
  {
   "cell_type": "markdown",
   "metadata": {},
   "source": [
    "\n",
    "## Experiment parameters\n",
    "\n",
    "As before, we use a simple two armed bandit and 1000 pulls on each arm for every simulation. As discussed in Box 4, this `trial_count` can be lowered to investigate how well we can recover models with more realistic numbers of trials.\n",
    "\n",
    "In the paper, their figure A and C allows for $\\beta < 1$. That's equivalent to setting `beta_increase` below to `0`. To generate data where $\\beta > 1$, and get figures B and D, simply set `beta_increase` to `1`.\n",
    "\n",
    "Running with `simfit_runcount` set to `100` takes ~ 1 min on my laptop. Thanks to having compiled our simulation and likelihood functions with numba, each `simfitrun` loop below went from taking ~1 min to ~800 **milliseconds**. Numba won't always provide such great improvement, but for those likelihood functions where we loop over the actions and rewards, numba is very ... rewarding."
   ]
  },
  {
   "cell_type": "code",
   "execution_count": null,
   "metadata": {},
   "outputs": [],
   "source": [
    "trial_count = 1000  # T in paper terminology\n",
    "bandit = np.array([0.2, 0.8])  # mu in paper terminology\n",
    "beta_increase = 1  # set to 0 for figure A, 1 for figure B\n",
    "simfit_runcount = 100  # how many times to simulate each model and fit"
   ]
  },
  {
   "cell_type": "markdown",
   "metadata": {},
   "source": [
    "\n",
    "## Simulate participants and fit models\n",
    "\n",
    "We create an empty 5x5 matrix to hold our results. Each row represents the simulated model, with columns being the fitted models. Every loop, we first simulate model 1, then fit models 1-5 on the simulation data, and record in the confusion matrix what model had the best fit.\n",
    "\n",
    "The `fit_all` function is a short wrapper around individual model specific fitting functions, each using scipy's `minimize` function to estimate parameter values and also returning the BIC value of the model's fit. The BIC value is what's used to decide what model was the best fit.\n",
    "\n",
    "$$BIC = -2log\\hat{LL} + k_mlog(T)$$\n",
    "\n",
    "where $\\hat{LL}$ is the likelihood (small error in the paper which states $\\hat{LL}$ is the log-likelihood), $k_m$ is the number of parameters for the model and $T$ is the number of trials.\n",
    "\n",
    "Code example for Model 3:\n",
    "\n",
    "`BIC = -2 * loglikelihood + 2 * np.log(1000)`\n",
    "\n",
    "After we have run all the simulations, we divide the values of the confusion matrix with the number of `simfit_runcount` to get ratios."
   ]
  },
  {
   "cell_type": "code",
   "execution_count": null,
   "metadata": {},
   "outputs": [],
   "source": [
    "confusion_matrix = np.zeros([5, 5])\n",
    "\n",
    "for simfitrun in range(simfit_runcount):\n",
    "    print(f\"simfitrun {simfitrun}\")\n",
    "\n",
    "    # model 1\n",
    "    bias = np.random.uniform(0, 1)\n",
    "    actions, rewards = simulate_M1random(\n",
    "        trial_count, bandit, bias)\n",
    "\n",
    "    _, _, best = fit_all(actions, rewards)\n",
    "    confusion_matrix[0, :] += best\n",
    "\n",
    "    # model 2\n",
    "    epsilon = np.random.uniform(0, 1)\n",
    "    actions, rewards = simulate_M2WSLS(\n",
    "        trial_count, bandit, epsilon)\n",
    "\n",
    "    _, _, best = fit_all(actions, rewards)\n",
    "    confusion_matrix[1, :] += best\n",
    "\n",
    "    # model 3\n",
    "    alpha = np.random.uniform(0, 1)\n",
    "    beta = beta_increase + np.random.exponential(1)\n",
    "    actions, rewards = simulate_M3RescorlaWagner(\n",
    "        trial_count, bandit, alpha, beta)\n",
    "\n",
    "    _, _, best = fit_all(actions, rewards)\n",
    "    confusion_matrix[2, :] += best\n",
    "\n",
    "    # model 4\n",
    "    alpha_c = np.random.uniform(0, 1)\n",
    "    beta_c = beta_increase + np.random.exponential(1)\n",
    "    actions, rewards = simulate_M4ChoiceKernel(\n",
    "        trial_count, bandit, alpha_c, beta_c)\n",
    "\n",
    "    _, _, best = fit_all(actions, rewards)\n",
    "    confusion_matrix[3, :] += best\n",
    "\n",
    "    # model 5\n",
    "    alpha = np.random.uniform(0, 1)\n",
    "    beta = beta_increase + np.random.exponential(1)\n",
    "    alpha_c = np.random.uniform(0, 1)\n",
    "    beta_c = beta_increase + np.random.exponential(1)\n",
    "    actions, rewards = simulate_M5RWCK(\n",
    "        trial_count, bandit, alpha, beta, alpha_c, beta_c)\n",
    "\n",
    "    _, _, best = fit_all(actions, rewards)\n",
    "    confusion_matrix[4, :] += best"
   ]
  },
  {
   "cell_type": "markdown",
   "metadata": {},
   "source": [
    "\n",
    "## Plot confusion matrix"
   ]
  },
  {
   "cell_type": "code",
   "execution_count": null,
   "metadata": {},
   "outputs": [],
   "source": [
    "cmap = sns.color_palette(\"colorblind\", as_cmap=True)\n",
    "# cmap = 'viridis'\n",
    "fig = sns.heatmap(\n",
    "    confusion_matrix / simfit_runcount, annot = True, cmap = cmap)\n",
    "fig.set(xlabel=\"fit model\", ylabel=\"simulated model\");"
   ]
  },
  {
   "cell_type": "markdown",
   "metadata": {},
   "source": [
    "\n",
    "## Plot inverse confusion matrix\n",
    "\n",
    "From the paper:\n",
    "\n",
    "> \"The inversion matrix provides easier interpretation of fitting results when the true model is unknown. For example, the confusion matrix indicates [FigureA, betaincrease = 0] that M1 is always perfectly recovered, while M5 is only recovered 30% of the time. By contrast, the inversion matrix shows that if M1 is the best fitting model, our confidence that it generated the data is low (54%), but if M5 is the best fitting model, our confidence that it did generate the data is high (97%)\"\n",
    "\n",
    "> \"Note that this measure, which we term the ‘inversion matrix’ to distinguish it from the confusion matrix, is not the same as the confusion matrix unless model recovery is perfect.\"\n",
    "\n",
    "I'm not sure i understand the \"unless model recovery is perfect\", what is the inversion matrix really?"
   ]
  },
  {
   "cell_type": "code",
   "execution_count": null,
   "metadata": {},
   "outputs": [],
   "source": [
    "inverse_confmatrix = np.zeros_like(confusion_matrix)\n",
    "for column in range(inverse_confmatrix.shape[1]):\n",
    "    inv_column = confusion_matrix[:, column] / np.sum(confusion_matrix[:, column])\n",
    "    inverse_confmatrix[:, column] = inv_column\n",
    "\n",
    "fig = sns.heatmap(inverse_confmatrix, annot = True, cmap = cmap)\n",
    "fig.set(xlabel=\"fit model\", ylabel=\"simulated model\");"
   ]
  },
  {
   "cell_type": "markdown",
   "metadata": {},
   "source": [
    "\n",
    "## Discussion\n",
    "\n",
    "From the paper:\n",
    "\n",
    "> \"As with parameter recovery, we believe that the best approach is to match the range of the parameters to the range seen in your data, or to the range that you expect from prior work.\"\n",
    "\n",
    "So, I know what we're doing is fiddly and messy, but is the advice to look at your experimental data really the best? it feels like there's an issue methodologically there, unless the data you're talking about is explicitly a pilot experiment to explore what parameter ranges your human participant data gives you?"
   ]
  }
 ],
 "metadata": {
  "jupytext": {
   "cell_metadata_filter": "-all",
   "main_language": "python",
   "notebook_metadata_filter": "-all"
  }
 },
 "nbformat": 4,
 "nbformat_minor": 4
}
